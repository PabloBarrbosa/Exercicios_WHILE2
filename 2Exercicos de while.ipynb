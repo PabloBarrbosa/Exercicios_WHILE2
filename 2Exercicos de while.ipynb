{
  "cells": [
    {
      "cell_type": "code",
      "execution_count": null,
      "metadata": {
        "id": "axVTZUlxYAV_"
      },
      "outputs": [],
      "source": [
        "nota = float(input(\"digite um valor de zero a dez: \"))\n",
        "\n",
        "while nota < 0 or nota > 10:\n",
        "  print(\"valor invalido\")\n",
        "\n",
        "  nota = float(input(\"digite um valor de zero a dez: \"))\n",
        "if nota > 0 or nota < 10:\n",
        "  print(\"boa\")"
      ]
    },
    {
      "cell_type": "code",
      "source": [],
      "metadata": {
        "id": "qceo9dHXhW_r"
      },
      "execution_count": null,
      "outputs": []
    },
    {
      "cell_type": "code",
      "source": [
        "soma = 0\n",
        "contador = 0\n",
        "\n",
        "print(\"Digite Uma aluguns Números. Digite 'pronto' Para parar: \")\n",
        "numero = input(\"Digite um Número ou 'pronto' Para parar: \")\n",
        "\n",
        "while numero != \"pronto\" and numero != \"pronto\":\n",
        "    soma += float(numero)\n",
        "    contador += 1\n",
        "    numero = input(\"Digite um Número ou 'pronto' Para parar: \")\n",
        "\n",
        "if contador > 0:\n",
        "  resultado = soma / contador\n",
        "  print(\"A Média Dos Números é:\", resultado)\n"
      ],
      "metadata": {
        "id": "7qKwjMjWbWSK"
      },
      "execution_count": null,
      "outputs": []
    },
    {
      "cell_type": "code",
      "source": [
        "nome = input(\"digite seu nome: \")\n",
        "senha = input(\"digite sua senha: \")\n",
        "\n",
        "while nome == senha:\n",
        "  print(\"acesso bloqueado\")\n",
        "\n",
        "  nome = input(\"digite seu nome: \")\n",
        "  senha = input(\"digite sua senha: \")\n",
        "if nome != senha:\n",
        "  print(\"acesso liberado\")\n"
      ],
      "metadata": {
        "id": "P7qE_npNhiCu"
      },
      "execution_count": null,
      "outputs": []
    },
    {
      "cell_type": "code",
      "source": [
        "ano = 1995\n",
        "salario = float(input(\"Digite Salário Inicial: \"))\n",
        "percentual = 0.015\n",
        "\n",
        "while ano < 2025:\n",
        "    ano += 1\n",
        "    aumento = salario * percentual\n",
        "    salario += aumento\n",
        "    percentual *= 2\n",
        "    print(f\"Salário em {ano} = {salario:.2f}\")"
      ],
      "metadata": {
        "id": "Zwh7jteUjGDm"
      },
      "execution_count": null,
      "outputs": []
    },
    {
      "cell_type": "code",
      "source": [
        "#nome maoir do que tres caracteres\n",
        "\n",
        "nome = input(\"Digite o nome: \")\n",
        "while len(nome) < 3:\n",
        "    print(\"Nome inválido!\")\n",
        "    nome = input(\"Digite o nome: \")\n",
        "\n",
        "# idade entre: 0 e 150\n",
        "\n",
        "idade = int(input(\"Digite a idade: \"))\n",
        "while idade < 0 or idade > 150:\n",
        "    print(\"Idade inválida!\")\n",
        "    idade = int(input(\"Digite a idade: \"))\n",
        "\n",
        "# Salário: maior que zero;\n",
        "\n",
        "salario = int(input(\"Digite o salário: \"))\n",
        "while salario <= 0:\n",
        "    print(\"Salario inválido!\")\n",
        "    salario = int(input(\"Digite a salário: \"))\n",
        "\n",
        "#sexo: \"f\" ou \"m\"\n",
        "\n",
        "sexo = input(\"Digite Seu Sexo: 'F' (Feminino) ou 'M' (Masculino): \")\n",
        "while sexo != 'F' and sexo != 'f' and sexo != 'M' and sexo != 'm':\n",
        "    sexo = input(\"Digite Seu Sexo Novamente: \")\n",
        "\n",
        "#estado civil: c, s, d, v\n",
        "\n",
        "estadocivil = input(\"Digite Seu Estado Civil: 'S' (Solteiro), 'C' (Casado), 'V' (Viúvo), 'D' (Divorciado): \")\n",
        "while estadocivil != 'S' and estadocivil != 's' and estadocivil != 'C' and estadocivil != 'c' and estadocivil != 'V' and estadocivil != 'v' and estadocivil != 'D' and estadocivil != 'd':\n",
        "    estadocivil = input(\"Digite Seu Estado Civil Novamente: \")"
      ],
      "metadata": {
        "id": "lWxBcdoswnMq"
      },
      "execution_count": null,
      "outputs": []
    },
    {
      "cell_type": "code",
      "source": [
        "populaçãoA = 80000\n",
        "populaçãoB = 200000\n",
        "ano = 0\n",
        "\n",
        "while populaçãoA <= populaçãoB:\n",
        "  populaçãoA += populaçãoA * 0.03\n",
        "  populaçãoB += populaçãoB * 0.015\n",
        "  ano += 1\n",
        "\n",
        "print ( \"A ultrapassa ou iguala a B em %d anos\" %ano )"
      ],
      "metadata": {
        "id": "87hEm_9Qyw-k"
      },
      "execution_count": null,
      "outputs": []
    },
    {
      "cell_type": "code",
      "source": [
        "numero = int(input(\"Digite um número inteiro positivo: \"))\n",
        "\n",
        "if numero < 0:\n",
        "    print(\"Não Existe Fatorial em Números Negativos.\")\n",
        "elif numero == 0:\n",
        "    print(\"O Fatorial de 0 é Sempre 1.\")\n",
        "else:\n",
        "    fatorial = 1\n",
        "    fator = 1\n",
        "    while fator <= numero:\n",
        "        fatorial *= fator\n",
        "        fator += 1\n",
        "    print(f\"O fatorial de {numero} é {fatorial}.\")"
      ],
      "metadata": {
        "id": "VftVjUaEadhf"
      },
      "execution_count": null,
      "outputs": []
    },
    {
      "cell_type": "code",
      "source": [
        "soma = 0\n",
        "contador = 0\n",
        "\n",
        "print(\"Digite Alguns Números. Digite '0' Para Terminar.\")\n",
        "numeros = input(\"Digite um Número ou '0' Para Terminar: \")\n",
        "\n",
        "while numeros != '0':\n",
        "    soma += float(numeros)\n",
        "    contador += 1\n",
        "    numeros = input(\"Digite um Número ou '0' Para Terminar: \")\n",
        "\n",
        "if contador > 0:\n",
        "    media = soma / contador\n",
        "    print(\"A Média Dos Números é:\", media)"
      ],
      "metadata": {
        "id": "gc1N-1fCcSNf"
      },
      "execution_count": null,
      "outputs": []
    },
    {
      "cell_type": "code",
      "source": [
        "                                                                                                                                                                                  continuar = \"S\"\n",
        "\n",
        "while continuar == \"S\" or continuar == \"s\":\n",
        "    total = 0\n",
        "    numeroproduto = 0\n",
        "\n",
        "    precoproduto = float(input(f\"Produto {numeroproduto + 1} (digite 0 para finalizar): \"))\n",
        "\n",
        "    while precoproduto != 0:\n",
        "        total += precoproduto\n",
        "        numeroproduto += 1\n",
        "        precoproduto = float(input(f\"Produto {numeroproduto + 1} (digite 0 para finalizar): \"))\n",
        "\n",
        "    print(f\"Total: R$ {total:.2f}\")\n",
        "\n",
        "    dinheiro = float(input(\"Dinheiro: \"))\n",
        "    troco = dinheiro - total\n",
        "\n",
        "    print(f\"Troco: R$ {troco:.2f}\")\n",
        "\n",
        "    outracompra = input(\"Deseja Comprar Outra Coisa? (S/N): \")\n",
        "\n",
        "    if outracompra == 'N' or outracompra == 'n':\n",
        "        print(\"Tenha um Bom Dia!\")\n",
        "        continuar = 'N'"
      ],
      "metadata": {
        "id": "P_g9MPTCqF6y"
      },
      "execution_count": null,
      "outputs": []
    },
    {
      "cell_type": "code",
      "source": [
        "cardapio = {\n",
        "    100: {\"nome\": \"Cachorro Quente\", \"preco\": 1.20},\n",
        "    101: {\"nome\": \"Bauru Simples\", \"preco\": 1.30},\n",
        "    102: {\"nome\": \"Bauru com Ovo\", \"preco\": 1.50},\n",
        "    103: {\"nome\": \"Hambúrguer\", \"preco\": 1.20},\n",
        "    104: {\"nome\": \"Cheeseburguer\", \"preco\": 1.30},\n",
        "    105: {\"nome\": \"Refrigerante\", \"preco\": 1.00}\n",
        "}\n",
        "\n",
        "pedidos = 0\n",
        "codigo = int(input(\"Digite o código do item (ou 0 para encerrar o pedido): \"))\n",
        "\n",
        "while codigo != 0:\n",
        "    if codigo in cardapio:\n",
        "        quantidade = int(input(\"Digite a quantidade desejada: \"))\n",
        "        item = cardapio[codigo]\n",
        "        total_item = item[\"preco\"] * quantidade\n",
        "        pedidos += total_item\n",
        "        print(f\"{quantidade}x {item['nome']}: R$ {total_item:.2f}\")\n",
        "    else:\n",
        "        print(\"Código inválido. Por favor, digite um código válido.\")\n",
        "    codigo = int(input(\"Digite o código do item (ou 0 para encerrar o pedido): \"))\n",
        "\n",
        "print(f\"Total do pedido: R$ {pedidos:.2f}\")"
      ],
      "metadata": {
        "id": "dCtJwRlmwJOA"
      },
      "execution_count": null,
      "outputs": []
    },
    {
      "cell_type": "code",
      "source": [],
      "metadata": {
        "id": "pebniHM45sQu"
      },
      "execution_count": null,
      "outputs": []
    }
  ],
  "metadata": {
    "colab": {
      "provenance": []
    },
    "kernelspec": {
      "display_name": "Python 3",
      "name": "python3"
    },
    "language_info": {
      "name": "python"
    }
  },
  "nbformat": 4,
  "nbformat_minor": 0
}